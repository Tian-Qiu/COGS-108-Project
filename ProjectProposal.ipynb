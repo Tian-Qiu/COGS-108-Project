{
 "cells": [
  {
   "cell_type": "markdown",
   "metadata": {},
   "source": [
    "# COGS 108 - Project Proposal"
   ]
  },
  {
   "cell_type": "markdown",
   "metadata": {},
   "source": [
    "## Important\n",
    "\n",
    "- Make sure all group members (3-6 people) are listed in the group members section.\n",
    "- ONE, and only one, member of your group should upload this notebook to TritonED. \n",
    "- Each member of the group will receive the same grade on this assignment. \n",
    "- Keep the file name the same: submit the file 'ProjectProposal.ipynb'"
   ]
  },
  {
   "cell_type": "markdown",
   "metadata": {},
   "source": [
    "## Overview"
   ]
  },
  {
   "cell_type": "markdown",
   "metadata": {},
   "source": [
    "Read the project description and detailed instructions for this assignment in the 'ProjectOutline' document."
   ]
  },
  {
   "cell_type": "markdown",
   "metadata": {},
   "source": [
    "## Group Members: Fill in the Student IDs of each group member here\n",
    "\n",
    "Replace the lines below to list each persons full student ID. Add lines as needed for your group size, and make sure each ID is listed on a separate line. \n",
    "\n",
    "- A91114755\n",
    "- A13910179\n",
    "- A91041643\n",
    "- A13597333"
   ]
  },
  {
   "cell_type": "markdown",
   "metadata": {},
   "source": [
    "### Research Question\n",
    "\n",
    "What is your research question? (1-2 sentences)"
   ]
  },
  {
   "cell_type": "markdown",
   "metadata": {},
   "source": [
    "What are factors common to videos that trend on Youtube, specifically related to the duration between a video’s upload and trending date?"
   ]
  },
  {
   "cell_type": "markdown",
   "metadata": {},
   "source": [
    "### Hypothesis\n",
    "\n",
    "What is your main hypothesis and predictions? (2-3 sentences)"
   ]
  },
  {
   "cell_type": "markdown",
   "metadata": {},
   "source": [
    "Trending videos with a shorter period of time between the upload and trending date will continue to trend for a longer duration of time.  Additionally, a video’s age, category, title, tags, and description affects its growth rate and can be used to gain insight regarding the characteristics of trending videos. "
   ]
  },
  {
   "cell_type": "markdown",
   "metadata": {},
   "source": [
    "### Dataset(s)\n",
    "\n",
    "What data will you use to answer your question? Describe the dataset(s) in terms of number of observations, what kind of features it contains, etc. You must use at least one dataset containing at least approximately 1000 observations (if your data are smaller but you feel they are sufficient, email Prof. Voytek). You are welcome (and in fact recommended) to find multiple datasets! If you do so, describe each one, and briefly explain how you will combine them together. "
   ]
  },
  {
   "cell_type": "markdown",
   "metadata": {},
   "source": [
    "*Fill in your dataset information here*\n",
    "\n",
    "Dataset Name: Trending Youtube Video Statistics  \n",
    "Link to the dataset: https://www.kaggle.com/datasnaek/youtube-new  \n",
    "Number of observations: 40000+  \n",
    "The Trending Youtube Video Statistics dataset, which is collected using the Youtube API, compiles data on the daily trending videos on Youtube by country. The dataset includes the video’s title, channel title, publish time, tags, views, likes and dislikes, description, and comment count.\n",
    "\n",
    "(Copy this information for each dataset)\n",
    "- Dataset Name:\n",
    "- Link to the dataset:\n",
    "- Number of observations:\n",
    "\n",
    "1-2 sentences describing the dataset. \n",
    "\n",
    "If you plan to use multiple datasets, add 1-2 sentences about how you plan to combine these datasets."
   ]
  },
  {
   "cell_type": "markdown",
   "metadata": {},
   "source": [
    "### Background and Prior Work\n",
    "\n",
    "Why is this question of interest, what background information led you to your hypothesis, and why is this important?\n",
    "\n",
    "Find some relevant prior work, and reference those sources. Even if you think you have a totally novel question, find the most similar prior work that you can and discuss how it relates to your project. \n",
    "\n",
    "References can be research publications, but they need not be. Blogs, github repositories, company websites, etc., are all viable references if they are relevant to your project.\n",
    "\n",
    "(2-3 paragraphs, including at least 2 references)"
   ]
  },
  {
   "cell_type": "markdown",
   "metadata": {},
   "source": [
    "This project is aimed at finding the secret recipe for creating trending videos on YouTube. According to [the latest traffic report](https://www.similarweb.com/website/youtube.com), YouTube is the world's second largest search engine with 25.42 billion total visits within the last month (28 days). As one of the most popular Art & Entertainment content-providing systems, YouTube spans across cultures and nations, with its trending videos viewed by a wide range of audiences around the globe. Thus, learning about characteristics of trending YouTube videos supports the design and evaluation of personalization services, from precise advertising to recommender systems.\n",
    "\n",
    "Trending videos on youtube range from anticipated movie trailers to hilarious talk show interviews all the way down to home videos of a young boy yodeling in Walmart.  YouTube has said that Trending aims to showcase videos that are appealing to a wide audience and exhibit what’s happening on YouTube and to a certain extent what’s happening around the world.  This list of trending videos is the same for all users in each country, with an exception in India.  Since Trending isn’t personalized and is the same for all users, it is a great list for YouTube creators to be on as it gives their video more chances of being watched.  So how does one get their video on Trending?\n",
    "\n",
    "For starters, it’s crucial to note that YouTube has said that Trending videos aren’t necessarily the top viewed videos at the time. This opens up the opportunity to look at more than just video views, such as a video’s age, category, growth rate, title, tags, description, etc. to identify (if any) the common factors of videos on Trending.  We believe that there will be common factors, and by identifying them, YouTube creators can alter their videos to fit these factors to increase their chances of getting on Trending.  Furthermore, it’s important to ask if being on Trending actually increases video views, as creators don’t want their video views to become stagnant.  We hypothesize that trending videos with a quick popularity spike tend to stay popular longer.  We will analyze this by considering the duration between the upload and trending date.  The momentum of popularity will increase as the video gets more views and it will further increase the video's popularity.  From an eye-catching title to a special tag or an interesting description, features in this dataset might be able to determine the \"trendiness\", which help us to better understand human behavior in a cyberworld.\n",
    "\n",
    "References (include links):\n",
    "- 1)\n",
    "In Cheng's paper, researchers examined YouTube's unique traffic patterns and investigated the socoal network of videos. By analyzing 3 million videos crawled within a 4 month window, they discovered that YouTube videos exhibit the ['Small-World Phenomenon'](https://snap.stanford.edu/class/cs224w-readings/travers69smallworld.pdf) that YouTube videos can be grouped by some large clustering coefficients and have a short characteristic path length linking other videos within the cluster. The paper implies that a trending video might increase other videos' popularity from its cluster. The assumption that trending videos are also clustered is important because the underlying connections between similar trending videos might also be the contributing factor of popularity.\n",
    "\n",
    ">X. Cheng, C. Dale and J. Liu, \"Statistics and Social Network of YouTube Videos,\" 2008 16th Interntional Workshop on Quality of Service, Enschede, 2008, pp. 229-238.\n",
    "DOI: https://doi.org/10.1109/IWQOS.2008.32 <br>\n",
    "[Link to their dataset](http://netsg.cs.sfu.ca/youtubedata/?fbclid=IwAR2XY8tbrW-PS536_DKKMs26oLDwD7UpDTl0ZTcrHrYcKQmowntn746zaEg)\n",
    "\n",
    "- 2)\n",
    "In Pinto's paper, two models (ML, MRBF) are presented to predict popularity of YouTube videos. They train models on daily samples from YouTube and test on top rank (27,212) as well as random videos(24,484) using a 10-fold cross validation. The overall result is better than that of state-of-the-art technique and has a very small mRSE. The popularity-prediction model suggests that there are noticeable patterns of video popularity distribution and we can utilize the reulst to refine our hypotheses and further our research.\n",
    "\n",
    ">Henrique Pinto, Jussara M. Almeida, and Marcos A. Gonçalves. 2013. Using early view patterns to predict the popularity of youtube videos. In Proceedings of the sixth ACM international conference on Web search and data mining (WSDM '13). ACM, New York, NY, USA, 365-374. DOI: https://doi.org/10.1145/2433396.2433443\n"
   ]
  },
  {
   "cell_type": "markdown",
   "metadata": {},
   "source": [
    "### Proposed Methods\n",
    "\n",
    "What methods will you use to analyze your data?\n",
    "\n",
    "- How 'clean' is the data? To the extent that it requires cleaning, how will you do so?\n",
    "- How will you analyze the data? Be as specific as you can. Briefly mention any pre-processing steps that are required for your methods (for example, checking data distributions and performing any transformations that may be required). Include a brief outline of how you will apply your chosen method(s). \n",
    "- What do you plan to report? Briefly mention any key visualizations you plan to create, and/or the kind of results you will be able to report that address your question (this could be, for example, the outcome of some statistical test(s), prediction error on a model, a model fit parameter, etc.).\n",
    "- Include a list of packages you expect to use for you project. If you plan to use packages we have not used in class, add a very brief description about them (a few words is sufficient). "
   ]
  },
  {
   "cell_type": "markdown",
   "metadata": {},
   "source": [
    "*Fill in your proposed methods information here:*\n",
    "\n",
    "*Data Cleaning (2-3 sentences)*\n",
    "\n",
    "Our data are relatively clean, and most of the data cleaning work should be done to the text section, in our case, the title and video description. Non-ascii characters, emojis, and URLs will be removed to help us understand the content of the video better. We also see some videos that have blank tag, and those videos should either be dropped or have their field fill with some default value. The dataset also has a filed indicating if the video has been removed, and those videos should be dropped or studied separately because there could be abnormal cases (e.g. violation of copy rights or inappropriate contents).\n",
    "\n",
    "*Data Analysis (1-2 paragraphs)*\n",
    "\n",
    "We plan to use T-test and linear/logistic regression to help us analyze our Youtube dataset. Before running our rests, we will visualize the data and check the data distribution and come up with some threshould as our metric of evaluation if necessary. T-test is used to verify our hypothesis about the factors that have positive impact on trending. For example, our hypothesis may be trending has some positive relationship with the number of views of a video. If we get high confidence (e.g. 90% ~ 95%), then our hypotheis is resonable. Otherwise, we would need to find some other factors that might affect trending. Another technique is clustering, we want to understand whether popular videos can be divided into groups that share similar features, and how do features of groups of video varies. Since the dataset already has category labels, we probably will use this technique to further understand the features of popular video given a specific category.\n",
    "\n",
    "We also like to perform content-based analysis to see what kind of title or video description are most attractive to viewers. We plan to perform this analysis by category and possibly for all data as well. To do this, we will need to use bag-of-word model to count most common words while removing all stopwords (by having a stopword list or use tf-idf weight). Then, we will visualize the data and see what kind of keyword distribution the text data have. If we have time, we can also explore how those keywords change over time.\n",
    "\n",
    "*What to report (2-3 sentences)*\n",
    "\n",
    "To support our conclusion, we will present some hypothesis test results (e.g. number of dislikes vs popularity), error rate of classifier, and model paramters. If there is some topics that can always draw viewers' attention, we would generate a few word cloud graphs that indicates trending words and the percentage of videos containing them.\n",
    "\n",
    "Packages we plan to use:\n",
    "- matplotlib\n",
    "- numpy\n",
    "- NLTK: can be used to do part-of-speech tagging as we might need only adjectives and nouns.\n",
    "- pandas\n",
    "- scikit-learn: machine learning library"
   ]
  },
  {
   "cell_type": "markdown",
   "metadata": {},
   "source": [
    "### Ethics and Privacy\n",
    "\n",
    "Briefly acknowledge and address any potential issues of ethics and privacy for the proposed project. In particular:\n",
    "- Do you have permission to use this data, for this purpose?\n",
    "- Are there privacy concerns regarding your datasets that you need to deal with, and/or terms of use that you need to comply with?\n",
    "- Are there potential biases in your dataset(s), in terms of who it composes, and how it was collected, that may be problematic in terms of it allowing for equitable analysis? (For example, does your data exclude particular populations, or is it likely to reflect particular human biases in a way that could be a problem?) \n",
    "- Are there any other issues related to your topic area, data, and/or analyses that are potentially problematic in terms of data privacy and equitable impact?\n",
    "- How will you handle any issues you identify?\n",
    "\n",
    "(1-2 paragraphs)\n",
    "\n",
    "This Trending Youtube Video Statistics dataset is a public dataset from Kaggle built using Youtube’s API Services. Developers have permission to use data collected from Youtube’s API Services as long as they follow the policies listed in the Youtube API Services Policies document. Overall, online video research does raise valid ethical and data privacy concerns regarding informed consent. However, the unique potential of such a dataset outweighs the cost; and by using a bag-of-word model to analyze common terms in the title, tags, and description, we can minimize the extent to which unique identifiers of the Youtube videos will be used in our analysis. \n",
    "\n",
    "Since the Trending Youtube Video dataset includes only top trending videos, there is a potential for survivor bias in the results. Videos with similar characteristics, that did not trend, are not included in the dataset and thus will not be studied. We will handle this potential issue by recognizing the impact of the bias in the conclusion and discussion of our results. \n"
   ]
  },
  {
   "cell_type": "markdown",
   "metadata": {},
   "source": [
    "### Discussion\n",
    "\n",
    "Discuss your project, looking forward to what your results might mean, how they fit it in with what is already known, and what problems you may encounter. \n",
    "\n",
    "In particular:\n",
    "- If your analyses and hypotheses are correct, what will be the contribution of this project to the topic domain? \n",
    "- Alternatively, what will you do if you methods don't work and/or your hypotheses are wrong? \n",
    "- What are the potential pitfalls and potential confounds of your data and/or methods that may cause problems, and/or influence your interpretations?\n",
    "\n",
    "(2-3 paragraphs)"
   ]
  },
  {
   "cell_type": "markdown",
   "metadata": {},
   "source": [
    "If our analysis and hypotheses are correct and we find that there are commonalities in the features of videos on Trending and that videos with quicker popularity spikes gain the most momentum, it could potentially change the structure of how YouTube creators and companies make and describe their videos.  These creators can make better titles, tags, descriptions, etc. for their videos by basing them off of the common characteristics of Trending videos to better their chances of getting on the Trending page.  Furthermore by increasing their chances of getting their video on Trending they are simultaneously increasing the likelihood of getting on Trending sooner, which will help their video gain more momentum.  Overall this will help their video to continue gaining views instead of going stagnant.  While this is important for general YouTube creators, this insight would be extremely useful for companies as it would give them advertising advantages.  They can create specific types of videos based off of Trending video characteristics to increase their chances of being on Trending and reaching wider audiences.\n",
    "\n",
    "However, if it turns out that there is no correlation between how quick a YouTube video ends up on Trending and its overall success in terms of views, it will lead us to look more into the other characteristics of videos on Trending such as likes and dislikes.  For instance a video might gain popularity quickly and end up on Trending, but get a lot of dislikes.  Even though the video gained fast popularity, it wasn’t received well which made people stop watching it.  Therefore we would analyze this concept of viewer reception by further analyzing likes and dislikes for videos that gained quick popularity if our hypothesis turns out to be wrong.\n",
    "\n",
    "A potential pitfall that might cause a problem in our interpretation is that we’re only analyzing videos that have ended up on Trending, which is only a small portion if we compare it to the huge amount of videos on YouTube.  If there are in fact common characteristics of Trending videos, how many videos on the platform also share those characteristics but didn’t end up on Trending and why?  This could be a downfall in our analysis depending on the amount of videos that do have those characteristics but didn’t end up on Trending.  This would show that there is something else involved with a video ending up on Trending.  One such thing could be a video’s thumbnail.  Our dataset doesn’t include the video thumbnail which might be a factor in why people choose to watch a video in the first place."
   ]
  },
  {
   "cell_type": "code",
   "execution_count": null,
   "metadata": {},
   "outputs": [],
   "source": []
  }
 ],
 "metadata": {
  "kernelspec": {
   "display_name": "Python 3",
   "language": "python",
   "name": "python3"
  },
  "language_info": {
   "codemirror_mode": {
    "name": "ipython",
    "version": 3
   },
   "file_extension": ".py",
   "mimetype": "text/x-python",
   "name": "python",
   "nbconvert_exporter": "python",
   "pygments_lexer": "ipython3",
   "version": "3.6.8"
  },
  "varInspector": {
   "cols": {
    "lenName": 16,
    "lenType": 16,
    "lenVar": 40
   },
   "kernels_config": {
    "python": {
     "delete_cmd_postfix": "",
     "delete_cmd_prefix": "del ",
     "library": "var_list.py",
     "varRefreshCmd": "print(var_dic_list())"
    },
    "r": {
     "delete_cmd_postfix": ") ",
     "delete_cmd_prefix": "rm(",
     "library": "var_list.r",
     "varRefreshCmd": "cat(var_dic_list()) "
    }
   },
   "types_to_exclude": [
    "module",
    "function",
    "builtin_function_or_method",
    "instance",
    "_Feature"
   ],
   "window_display": false
  }
 },
 "nbformat": 4,
 "nbformat_minor": 2
}
